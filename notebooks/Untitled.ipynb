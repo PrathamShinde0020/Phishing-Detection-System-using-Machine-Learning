{
 "cells": [
  {
   "cell_type": "code",
   "execution_count": 1,
   "id": "d0b0bf74-b4a8-435e-a430-cb15546d1621",
   "metadata": {},
   "outputs": [],
   "source": [
    "import pandas as pd"
   ]
  },
  {
   "cell_type": "code",
   "execution_count": 3,
   "id": "f1352899-8164-4774-83e0-9bfce9923fc9",
   "metadata": {},
   "outputs": [],
   "source": [
    "df = pd.read_csv('Phishing_Url.csv')"
   ]
  },
  {
   "cell_type": "code",
   "execution_count": 7,
   "id": "2a640f1b-ec4e-4435-a804-5314ba9cb095",
   "metadata": {},
   "outputs": [
    {
     "data": {
      "text/plain": [
       "Index(['index ', 'having_IPhaving_IP_Address ', 'URLURL_Length ',\n",
       "       'Shortining_Service ', 'having_At_Symbol ', 'double_slash_redirecting ',\n",
       "       'Prefix_Suffix ', 'having_Sub_Domain ', 'SSLfinal_State ',\n",
       "       'Domain_registeration_length ', 'Favicon ', 'port ', 'HTTPS_token ',\n",
       "       'Request_URL ', 'URL_of_Anchor ', 'Links_in_tags ', 'SFH ',\n",
       "       'Submitting_to_email ', 'Abnormal_URL ', 'Redirect ', 'on_mouseover ',\n",
       "       'RightClick ', 'popUpWidnow ', 'Iframe ', 'age_of_domain ',\n",
       "       'DNSRecord ', 'web_traffic ', 'Page_Rank ', 'Google_Index ',\n",
       "       'Links_pointing_to_page ', 'Statistical_report ', 'Result'],\n",
       "      dtype='object')"
      ]
     },
     "execution_count": 7,
     "metadata": {},
     "output_type": "execute_result"
    }
   ],
   "source": [
    "df.columns"
   ]
  },
  {
   "cell_type": "code",
   "execution_count": null,
   "id": "e9a0eaa7-7a12-4f50-bd39-36379270ad0f",
   "metadata": {},
   "outputs": [],
   "source": []
  }
 ],
 "metadata": {
  "kernelspec": {
   "display_name": "Python 3 (ipykernel)",
   "language": "python",
   "name": "python3"
  },
  "language_info": {
   "codemirror_mode": {
    "name": "ipython",
    "version": 3
   },
   "file_extension": ".py",
   "mimetype": "text/x-python",
   "name": "python",
   "nbconvert_exporter": "python",
   "pygments_lexer": "ipython3",
   "version": "3.13.2"
  }
 },
 "nbformat": 4,
 "nbformat_minor": 5
}
